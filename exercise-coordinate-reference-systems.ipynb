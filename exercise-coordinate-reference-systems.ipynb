{
 "cells": [
  {
   "cell_type": "markdown",
   "metadata": {},
   "source": [
    "------------------------------------------------------------------\n",
    " # Geospatial Data Exercise\n",
    "------------------------------------------------------------------\n",
    "\n",
    " This is the exercise note for the second lesson of the kaggle course\n",
    " [\"Geospatial Analysis\"](https://www.kaggle.com/learn/geospatial-analysis)\n",
    " offered by Alexis Cook and Jessica Li. The main goal of the lesson is\n",
    " to get used to __Coordinate Reference System__."
   ]
  },
  {
   "cell_type": "markdown",
   "metadata": {},
   "source": [
    "## 1. Task\n",
    "\n",
    " Purple martin (a species of bird) spend the summer in the eastern United\n",
    " States, and migrate to South America in the winter. Show how the\n",
    " birds migrate. Overlay their winter residence with the public\n",
    " sanctuaries. See if the protected areas really provide the useful\n",
    " life infrastructure to the birds.\n",
    "\n",
    " 1. __Assessment of current situation__ : Are the protected areas functioning?\n",
    " 2. __Future strategy__ : What is the first priority for the next move?"
   ]
  },
  {
   "cell_type": "markdown",
   "metadata": {},
   "source": [
    "## 2. Data\n",
    "\n",
    " We have\n",
    "\n",
    " 1. Tracking records of 11 purple matins in migration. They carry wireless\n",
    " devices and record the position of the bird with timestamps.\n",
    "\n",
    " 2. Map (= Boundary info) of the protection areas in South America.\n",
    "\n",
    " 3. General world map with the country borders, etc."
   ]
  },
  {
   "cell_type": "markdown",
   "metadata": {},
   "source": [
    "## 3. Coordinate Reference System (CRS)\n",
    "\n",
    " Coordinate Reference System (CRS) tells the axes\n",
    " of the positional data stored in GeoDataFrame.\n",
    " CRS specifies where the coordinate origin (0, 0) is,\n",
    " what the axes (e.g. northing and easting) are,\n",
    " what the unit is (feet, meters, kilo-meters).\n",
    " When we manipulate one GeoDataFrame with another, for instance,\n",
    " to calculate intersections, both GeoDataFrame must have the same\n",
    " CRS.\n",
    "\n",
    " ### CRS most often used\n",
    "\n",
    " We need to know at least following three CRS.\n",
    "\n",
    " 1. [__epgs: 4326__](https://epsg.io/4326)\n",
    " Usual latitude and longitude (in this order).\n",
    " Equivalent to WGS 84. Origin is the intersection of the meridian\n",
    " and the equator. Unit is degree (e.g. X=8.2505556, Y=48.7627778)\n",
    "\n",
    " 2. [__epgs: 32630__](https://epsg.io/32630)\n",
    " Mercator projection. Origin is\n",
    " somewhere between Iceland and mainland Norway. Unit is meter.\n",
    " (e.g. X=918447.648154, Y=6234705.18923)\n",
    "\n",
    " 3. [__epgs: 2272__](https://epsg.io/2272)\n",
    " Often used  in US and Canada. Origin is somewhere on the\n",
    " south edge of Victoria Island in Canada. Unit is foot.\n",
    " https:\n",
    "\n",
    " Additionally,\n",
    " 4. [__epgs: 2263__](https://epsg.io/2263)\n",
    " Often used in the data obtained in New York."
   ]
  },
  {
   "cell_type": "markdown",
   "metadata": {},
   "source": [
    "### Convert pandas to geopandas\n",
    "\n",
    " When we have latitude and longitude columns in a `pandas` DataFrame\n",
    " and would like to convert it to `geopandas`, we need to do two things.\n",
    "\n",
    " 1. Tell `gpd.GeoDataFrame` (`gpd` is the shorthand of `geopandas` that is\n",
    " usually used when the package is imported) which information\n",
    " (X, Y or latitude and\n",
    " longitude) should be used to construct `geometry` column.\n",
    "\n",
    " 2. After a GeoDataFrame is created, specify the coordinate reference system.\n",
    "\n",
    " The code snippet is as follow.s\n",
    "\n",
    "```\n",
    "# Create lists of latitude and longitude.\n",
    "lat = [7.0, 7.1]\n",
    "lon = [40.0, 40.1]\n",
    "\n",
    "# Create `Points` object from y and x (latitude and longitude here).\n",
    "# Those point will be stored in the `geometry` column of gpd.GeoDataFrame\n",
    "\n",
    "loc_gdf = gpd.GeoDataFrame(geometry=gpd.points_from_xy(lat, lon))\n",
    "\n",
    "# Tell newly made GeoDataFrame, X and Y in `geometry` columns are latitude and longitude.\n",
    "loc_gdf.crs = {'inti': 'epsg:4326'}\n",
    "```"
   ]
  },
  {
   "cell_type": "markdown",
   "metadata": {},
   "source": [
    "## 4. Notebook\n",
    "\n",
    " Import packages."
   ]
  },
  {
   "cell_type": "code",
   "execution_count": null,
   "metadata": {},
   "outputs": [],
   "source": [
    "import numpy as np\n",
    "import pandas as pd\n",
    "import geopandas as gpd\n",
    "from pathlib import Path\n",
    "import plotly.graph_objs as go\n",
    "import folium\n",
    "import webbrowser\n",
    "import uuid\n",
    "import os\n",
    "import zipfile\n",
    "import pretty_errors\n",
    "import pdb"
   ]
  },
  {
   "cell_type": "markdown",
   "metadata": {},
   "source": [
    "If we are not in our working directory, move there."
   ]
  },
  {
   "cell_type": "code",
   "execution_count": null,
   "metadata": {},
   "outputs": [],
   "source": [
    "CWD = '/Users/meg/git6/kaggle/'\n",
    "DATA_DIR = '../input/geospatial-learn-course-data/'\n",
    "if Path.cwd() != CWD:\n",
    "    os.chdir(CWD)"
   ]
  },
  {
   "cell_type": "markdown",
   "metadata": {},
   "source": [
    "If we have not downloaded the course data, get it from Alexis Cook's\n",
    " kaggle public dataset."
   ]
  },
  {
   "cell_type": "code",
   "execution_count": null,
   "metadata": {},
   "outputs": [],
   "source": [
    "if not Path(DATA_DIR).exists():\n",
    "    command = 'kaggle d download alexisbcook/geospatial-learn-course-data'\n",
    "    os.system(command)\n",
    "    os.chdir(DATA_DIR)\n",
    "    with zipfile.ZipFile('geospatial-learn-course-data', 'r') as zip_ref:\n",
    "        zip_ref.extractall('.')\n",
    "    os.chdir(CWD)"
   ]
  },
  {
   "cell_type": "markdown",
   "metadata": {},
   "source": [
    "Some household stuff. Change `pandas`' options so that we can see\n",
    " whole DataFrame without skipping the middle."
   ]
  },
  {
   "cell_type": "code",
   "execution_count": null,
   "metadata": {},
   "outputs": [],
   "source": [
    "pd.options.display.max_rows = 999\n",
    "pd.options.display.max_columns = 99"
   ]
  },
  {
   "cell_type": "markdown",
   "metadata": {},
   "source": [
    "This is to store the folium visualization to an html file, and show it\n",
    " on the local browser."
   ]
  },
  {
   "cell_type": "code",
   "execution_count": null,
   "metadata": {},
   "outputs": [],
   "source": [
    "def embed_map(m, file_name):\n",
    "    from IPython.display import IFrame\n",
    "    m.save(file_name)\n",
    "    return IFrame(file_name, width='100%', height='500px')\n",
    "\n",
    "\n",
    "def embed_plot(fig, file_name):\n",
    "    from IPython.display import IFrame\n",
    "    fig.write_html(file_name)\n",
    "    return IFrame(file_name, width='100%', height='500px')\n",
    "\n",
    "\n",
    "def show_on_browser(m, file_name):\n",
    "    '''\n",
    "    m   : folium Map object\n",
    "#    CWD : string. Current working directory, e.g. \"/User/meg/git6/kaggle/\"\n",
    "    Do not miss the trailing '/'\n",
    "    '''\n",
    "#   file_name=str(uuid.uuid4())+'.html'\n",
    "#    file_name = m.__name__+'_b.html'\n",
    "    m.save(file_name)\n",
    "#    url = 'file://'+CWD+file_name\n",
    "    url = 'file://'+file_name\n",
    "    webbrowser.open(url)"
   ]
  },
  {
   "cell_type": "markdown",
   "metadata": {},
   "source": [
    "Read the data of purple martin's seasonal migration."
   ]
  },
  {
   "cell_type": "code",
   "execution_count": null,
   "metadata": {},
   "outputs": [],
   "source": [
    "birds_dir = \"../input/geospatial-learn-course-data/\"\n",
    "birds_df = pd.read_csv(birds_dir + \"purple_martin.csv\",\n",
    "                       parse_dates=['timestamp'])"
   ]
  },
  {
   "cell_type": "markdown",
   "metadata": {},
   "source": [
    "With `parse_dates`. `timestamp` column will be returned as `datetime64` object."
   ]
  },
  {
   "cell_type": "code",
   "execution_count": null,
   "metadata": {},
   "outputs": [],
   "source": [
    "print(birds_df.info())"
   ]
  },
  {
   "cell_type": "markdown",
   "metadata": {},
   "source": [
    "Without `parse_dates`. `timestamp` column will be returned as\n",
    " `object` object(=string)."
   ]
  },
  {
   "cell_type": "code",
   "execution_count": null,
   "metadata": {},
   "outputs": [],
   "source": [
    "birds_no_parse_df = pd.read_csv(birds_dir + \"purple_martin.csv\")\n",
    "print(birds_no_parse_df.info())"
   ]
  },
  {
   "cell_type": "markdown",
   "metadata": {},
   "source": [
    "Check the data how many independent birds are recorded."
   ]
  },
  {
   "cell_type": "code",
   "execution_count": null,
   "metadata": {},
   "outputs": [],
   "source": [
    "birds_df['tag-local-identifier'].unique()\n",
    "birds_df['tag-local-identifier'].nunique()\n",
    "birds_df.groupby('tag-local-identifier').count()['timestamp']"
   ]
  },
  {
   "cell_type": "markdown",
   "metadata": {},
   "source": [
    "Indeed there are 11 birds in the record.\n",
    " Each has 6 to 10 readings during the trip.\n",
    " Conversion of pd.DataFrame to gpd.GeoDataFrame goes\n",
    " in the following steps.\n",
    "\n",
    " 1. Specify how to make `geometry` column. In this case 'location-long'\n",
    " (=longitude) and 'location-lat' (=latitude) columns will be used to\n",
    " make `geometry`.\n",
    "\n",
    " 2. Specify that CRS is EPSG 4326, i.e., standard latitude and longitude."
   ]
  },
  {
   "cell_type": "code",
   "execution_count": null,
   "metadata": {},
   "outputs": [],
   "source": [
    "birds = gpd.GeoDataFrame(birds_df, geometry=gpd.points_from_xy(\n",
    "    birds_df['location-long'], birds_df['location-lat']))\n",
    "birds.crs = {'init': 'epsg:4326'}"
   ]
  },
  {
   "cell_type": "markdown",
   "metadata": {},
   "source": [
    "Read underlying world map. The map is under the package directory of `geopandas`."
   ]
  },
  {
   "cell_type": "code",
   "execution_count": null,
   "metadata": {},
   "outputs": [],
   "source": [
    "gpd.datasets.get_path('naturalearth_lowres')\n",
    "world = gpd.read_file(gpd.datasets.get_path('naturalearth_lowres'))\n",
    "americas = world.loc[world['continent'].isin(\n",
    "    ['North America', 'South America'])]"
   ]
  },
  {
   "cell_type": "markdown",
   "metadata": {},
   "source": [
    "Read the boundary information of the protected areas.\n",
    " The data originally comes from\n",
    " [World Database on Protected Areas(WDPA)](https://www.protectedplanet.net/en/thematic-areas/wdpa?tab=WDPA)."
   ]
  },
  {
   "cell_type": "code",
   "execution_count": null,
   "metadata": {},
   "outputs": [],
   "source": [
    "protected_dir = DATA_DIR + 'SAPA_Aug2019-shapefile/SAPA_Aug2019-shapefile/'\n",
    "protected_areas = gpd.read_file(\n",
    "    protected_dir+'SAPA_Aug2019-shapefile-polygons.shp')\n",
    "protected_areas.head(3)"
   ]
  },
  {
   "cell_type": "markdown",
   "metadata": {},
   "source": [
    "Make Polygons more handy."
   ]
  },
  {
   "cell_type": "code",
   "execution_count": null,
   "metadata": {},
   "outputs": [],
   "source": [
    "protected_areas['geometry'] = protected_areas['geometry'].simplify(\n",
    "    0.02, preserve_topology=False)"
   ]
  },
  {
   "cell_type": "markdown",
   "metadata": {},
   "source": [
    "Calculate the center of the map."
   ]
  },
  {
   "cell_type": "code",
   "execution_count": null,
   "metadata": {},
   "outputs": [],
   "source": [
    "center = [birds_df['location-lat'].mean(), birds_df['location-long'].mean()]\n",
    "zoom = 5\n",
    "tiles = 'Stamen Terrain'"
   ]
  },
  {
   "cell_type": "markdown",
   "metadata": {},
   "source": [
    "Random color scheme."
   ]
  },
  {
   "cell_type": "code",
   "execution_count": null,
   "metadata": {},
   "outputs": [],
   "source": [
    "color = [hex(x).replace('0x', '#')\n",
    "         for x in\n",
    "         np.random.randint(0, 256**3 - 1, birds['tag-local-identifier'].nunique())]"
   ]
  },
  {
   "cell_type": "markdown",
   "metadata": {},
   "source": [
    "Draw map."
   ]
  },
  {
   "cell_type": "code",
   "execution_count": null,
   "metadata": {},
   "outputs": [],
   "source": [
    "# m_1 = folium.Map(location=center, tiles=tiles, zoom_start=5)\n",
    "m_1 = folium.Map(location=center, zoom_start=zoom)\n",
    "folium.GeoJson(data=americas.__geo_interface__).add_to(m_1)\n",
    "for i_g, (n, g) in enumerate(birds.groupby('tag-local-identifier')):\n",
    "    _ = folium.PolyLine(locations=g[['location-lat', 'location-long']],\n",
    "                        weight=2,\n",
    "                        opacity=1.0,\n",
    "                        color=color[i_g]).add_to(m_1)\n",
    "    _ = [folium.CircleMarker(location=(r['location-lat'],\n",
    "                                       r['location-long']),\n",
    "                             radius=8,\n",
    "                             color='transparent',\n",
    "                             fill_color=color[i_g],\n",
    "                             fill_opacity=0.7,\n",
    "                             fill=True).add_to(m_1) for i, r in g.iterrows()]"
   ]
  },
  {
   "cell_type": "code",
   "execution_count": null,
   "metadata": {},
   "outputs": [],
   "source": [
    "embed_map(m_1, 'm_1.html')"
   ]
  },
  {
   "cell_type": "code",
   "execution_count": null,
   "metadata": {},
   "outputs": [],
   "source": [
    "show_on_browser(m_1, CWD+'m_1b.html')"
   ]
  },
  {
   "cell_type": "markdown",
   "metadata": {},
   "source": [
    "To extract the staring points, do the following (we do not use them here)."
   ]
  },
  {
   "cell_type": "code",
   "execution_count": null,
   "metadata": {},
   "outputs": [],
   "source": [
    "start_df = birds.groupby(\n",
    "    'tag-local-identifier')['geometry'].apply(list).apply(lambda x: x[0]).reset_index()\n",
    "start_gdf = gpd.GeoDataFrame(start_df, geometry=start_df['geometry'])\n",
    "start_gdf.crs = {\"init\": 'epsg:4326'}"
   ]
  },
  {
   "cell_type": "markdown",
   "metadata": {},
   "source": [
    "To extract the ending points do the following  (we do not use them here)."
   ]
  },
  {
   "cell_type": "code",
   "execution_count": null,
   "metadata": {},
   "outputs": [],
   "source": [
    "end_df = birds.groupby(\n",
    "    \"tag-local-identifier\")['geometry'].apply(list).apply(lambda x: x[-1]).reset_index()\n",
    "end_gdf = gpd.GeoDataFrame(end_df, geometry=end_df['geometry'])\n",
    "end_gdf.crs = {\"init\": 'epsg:4326'}"
   ]
  },
  {
   "cell_type": "markdown",
   "metadata": {},
   "source": [
    "Before we check how the birds winter-residences\n",
    " overlap with the protected areas, we will quickly\n",
    " see how much fraction of the lands in the South\n",
    " America is designated as protected area. The relevant columns are\n",
    "\n",
    " * `REP_M_AREA` : Marine area in square kilometers.\n",
    " * `REP_AREA` : Area in square kilometers."
   ]
  },
  {
   "cell_type": "markdown",
   "metadata": {},
   "source": [
    "The table attribute is available on downloading the data."
   ]
  },
  {
   "cell_type": "code",
   "execution_count": null,
   "metadata": {},
   "outputs": [],
   "source": [
    "protected_areas[['REP_AREA', 'REP_M_AREA']]"
   ]
  },
  {
   "cell_type": "markdown",
   "metadata": {},
   "source": [
    "There are somehow 5 areas out of 4748 registered areas where `REP_AREA`\n",
    " is smaller than `REP_M_AREA`.\n",
    " The differneces are small, though, and we will use them as they are."
   ]
  },
  {
   "cell_type": "code",
   "execution_count": null,
   "metadata": {},
   "outputs": [],
   "source": [
    "protected_areas.shape\n",
    "protected_areas.loc[(protected_areas['REP_AREA']\n",
    "                     - protected_areas['REP_M_AREA'] < 0),\n",
    "                    ['REP_AREA', 'REP_M_AREA']]"
   ]
  },
  {
   "cell_type": "markdown",
   "metadata": {},
   "source": [
    "Check CRS."
   ]
  },
  {
   "cell_type": "code",
   "execution_count": null,
   "metadata": {},
   "outputs": [],
   "source": [
    "protected_areas.crs"
   ]
  },
  {
   "cell_type": "markdown",
   "metadata": {},
   "source": [
    "Convert the crs of `protected_areas`\n",
    " to [EPSG 3035](https://spatialreference.org/ref/epsg/etrs89-etrs-laea/).\n",
    " This is eqivalent to ETRS89 with the 'Lambert' projection, and\n",
    " is a [equal area](http://crs.bkg.bund.de/crseu/crs/eu-description.php?crs_id=Y0VUUlM4OS1MQUVB)\n",
    " CRS. Show only the protection areas on the land, but not on the ocean (no MARINE area)."
   ]
  },
  {
   "cell_type": "code",
   "execution_count": null,
   "metadata": {},
   "outputs": [],
   "source": [
    "protected_areas_on_land = protected_areas[protected_areas['MARINE'] != '2'].reset_index(\n",
    "    drop=True)"
   ]
  },
  {
   "cell_type": "markdown",
   "metadata": {},
   "source": [
    "Check if there is any records outside South America in `protected_areas`\n",
    " by plotting the areas."
   ]
  },
  {
   "cell_type": "code",
   "execution_count": null,
   "metadata": {},
   "outputs": [],
   "source": [
    "def style_function(x): return {'fillColor': 'coral', 'stroke': False}\n",
    "\n",
    "\n",
    "# m_2 = folium.Map(location=center, tiles='Stamen Toner', zoom_start=zoom)\n",
    "m_2 = folium.Map(location=center, zoom_start=zoom)\n",
    "folium.GeoJson(data=protected_areas.__geo_interface__).add_to(m_2)"
   ]
  },
  {
   "cell_type": "code",
   "execution_count": null,
   "metadata": {},
   "outputs": [],
   "source": [
    "embed_map(m_2, 'm_2.html')"
   ]
  },
  {
   "cell_type": "code",
   "execution_count": null,
   "metadata": {},
   "outputs": [],
   "source": [
    "show_on_browser(m_2, CWD+'m_2b.html')"
   ]
  },
  {
   "cell_type": "markdown",
   "metadata": {},
   "source": [
    "`tiles` parameter in Map specifies the type of map to lay underneath.\n",
    " Here 'Stamen Toner' is used to save the memory.\n",
    " Other choices, that do not require API keys to download map data are\n",
    "\n",
    " - OpenStreetMap\n",
    " - Mapbox Bright\n",
    " - Mapbox Control Room\n",
    " - Stamen (Terrain, Toner, Watercolor)"
   ]
  },
  {
   "cell_type": "markdown",
   "metadata": {},
   "source": [
    "The total area of the protected sites in square km"
   ]
  },
  {
   "cell_type": "code",
   "execution_count": null,
   "metadata": {},
   "outputs": [],
   "source": [
    "total_protected_area = (protected_areas['REP_AREA']\n",
    "                        - protected_areas['REP_M_AREA']).sum()\n",
    "print(f'\\033[33mtotal protected area \\033[31m{total_protected_area:.4}\\\n",
    "     \\033[33m[km^2]\\033[0m')"
   ]
  },
  {
   "cell_type": "markdown",
   "metadata": {},
   "source": [
    "Now calculate the whole area of the South American continent. Make sure\n",
    " to convert the CRS to epsg 3035. As the unit of epsg 3035 is meters, divide\n",
    " the area 1km<sup>2</sup> = 10<sup>6</sup> m<sup>2</sup> to convert the unit\n",
    " to km<sup/2</sup>.a"
   ]
  },
  {
   "cell_type": "code",
   "execution_count": null,
   "metadata": {},
   "outputs": [],
   "source": [
    "south_america = world[world['continent'] ==\n",
    "                      'South America'].reset_index(drop=True)\n",
    "total_area = south_america.to_crs(epsg=3035)['geometry'].area.sum() / 10**6\n",
    "p_frac = total_protected_area / total_area\n",
    "print(\n",
    "    f'\\033[33mProtected land fraction in south america \\033[31m{p_frac:.3}\\033[0m')"
   ]
  },
  {
   "cell_type": "markdown",
   "metadata": {},
   "source": [
    "Here is the final task. Visualize following three,\n",
    "\n",
    " 1. Map of American continents (North America and South America combined)\n",
    " 2. Plot the migration paths of the 11 birds, and\n",
    " 3. the registered protected areas."
   ]
  },
  {
   "cell_type": "markdown",
   "metadata": {},
   "source": [
    "Tell if the birds really spend the winter in or near these sanctuaries.\n",
    " Is the presence of the protected areas really provide the winter habitats\n",
    " for the birds?"
   ]
  },
  {
   "cell_type": "code",
   "execution_count": null,
   "metadata": {},
   "outputs": [],
   "source": [
    "def style_function(x): return {'fillColor': 'coral', 'stroke': False}\n",
    "\n",
    "\n",
    "m_3 = folium.Map(location=center, tiles='Stamen Terrain', zoom_start=zoom)\n",
    "# m_3 = folium.Map(location=center, zoom_start=zoom)\n",
    "folium.GeoJson(data=protected_areas_on_land.__geo_interface__,\n",
    "               style_function=style_function).add_to(m_3)\n",
    "for i_g, (n, g) in enumerate(birds.groupby('tag-local-identifier')):\n",
    "    _ = folium.PolyLine(locations=g[['location-lat', 'location-long']],\n",
    "                        weight=2,\n",
    "                        opacity=1.0,\n",
    "                        color=color[i_g]).add_to(m_3)\n",
    "    _ = [folium.CircleMarker(location=(r['location-lat'],\n",
    "                                       r['location-long']),\n",
    "                             radius=8,\n",
    "                             color='transparent',\n",
    "                             fill_color=color[i_g],\n",
    "                             fill_opacity=0.7,\n",
    "                             fill=True).add_to(m_3) for i, r in g.iterrows()]"
   ]
  },
  {
   "cell_type": "code",
   "execution_count": null,
   "metadata": {},
   "outputs": [],
   "source": [
    "embed_map(m_3, 'm_3.html')"
   ]
  },
  {
   "cell_type": "code",
   "execution_count": null,
   "metadata": {},
   "outputs": [],
   "source": [
    "show_on_browser(m_3, CWD+'m_3b.html')"
   ]
  },
  {
   "cell_type": "markdown",
   "metadata": {},
   "source": [
    "------------------------------------------\n",
    " Qualitative observations of the map are as following.\n",
    "\n",
    " 1. Purple martin seem to stop near the edges of the protected areas, rather\n",
    "   than the middle of them. If we use a bit of imagination, the birds would\n",
    "   like to\n",
    "   rest in the protected area, as soon as they arrive, or would like to\n",
    "   have the last stop at its edge before starting a long stretch of\n",
    "  the next flight.\n",
    "\n",
    " 2. There are few protected area where the paths of the purple margins converge\n",
    "   (e.g. the one near Humaita), although their paths are widely separated at\n",
    "   the beginning. These areas are probably most valuable as the birds apparently\n",
    "   strive to the area intentionally.\n",
    "\n",
    " 3. Purple martin spends their winter at the southern-east half of\n",
    "  the Amazon Rainforest\n",
    "  in relatively concentrated manner (in particular in comparison with\n",
    "  their northern residence.\n",
    "  From there to the south, the protected areas obviously  become much smaller,\n",
    "  fewer, and sparser. Looking at the residence of the birds, it is most beneficial\n",
    "  to create more protected areas at the southeast of Amazon to extend\n",
    "  the habitat of purple martin.\n",
    "\n",
    " ------------------------------------------------------\n",
    "\n",
    " Let us quickly look at which countries in the South America have the\n",
    " largest fraction of the protected area with respect to their whole territory.\n",
    " We use `overlap` methods of `geopandas` geometry. The fractions of the\n",
    " protected areas can be taken\n",
    " as the indies how these countries are supportive for the\n",
    " protection of wildlife."
   ]
  },
  {
   "cell_type": "code",
   "execution_count": null,
   "metadata": {},
   "outputs": [],
   "source": [
    "p_area = []  # protected area of the country\n",
    "t_area = []  # total area of the country\n",
    "f_area = []  # fraction of protected are\n",
    "\n",
    "for i in south_america.index:\n",
    "    p = np.array([south_america.loc[i, 'geometry'].intersection(\n",
    "        protected_areas_on_land.loc[j, 'geometry']).area\n",
    "        for j in protected_areas_on_land.index]).sum()\n",
    "    p_area.append(p)\n",
    "    t = south_america.loc[i, 'geometry'].area\n",
    "    t_area.append(t)\n",
    "    f = p / t\n",
    "    f_area.append(f)\n",
    "south_america['protected_area_total'] = p_area\n",
    "south_america['area_total'] = t_area\n",
    "south_america['protected_area_fraction'] = f_area\n",
    "south_america['non_protected_area_total'] = south_america['area_total'] - \\\n",
    "    south_america['protected_area_total']\n",
    "south_america.info()"
   ]
  },
  {
   "cell_type": "markdown",
   "metadata": {},
   "source": [
    "Plotly Bar plot."
   ]
  },
  {
   "cell_type": "code",
   "execution_count": null,
   "metadata": {},
   "outputs": [],
   "source": [
    "trace = go.Bar(y=south_america.sort_values(\n",
    "    'protected_area_fraction')['name'],\n",
    "    x=south_america.sort_values(\n",
    "    'protected_area_fraction')['protected_area_fraction'],\n",
    "    orientation='h')\n",
    "data = [trace]\n",
    "layout = go.Layout(height=512, width=1024,\n",
    "                   font=dict(size=20),\n",
    "                   xaxis=dict(title=dict(text='Fraction of Protected Area')))\n",
    "fig = go.Figure(data=data, layout=layout)\n",
    "_ = fig.add_vline(x=p_frac)"
   ]
  },
  {
   "cell_type": "code",
   "execution_count": null,
   "metadata": {},
   "outputs": [],
   "source": [
    "embed_plot(fig, 'p_1.html')"
   ]
  },
  {
   "cell_type": "code",
   "execution_count": null,
   "metadata": {},
   "outputs": [],
   "source": [
    "fig.show()"
   ]
  },
  {
   "cell_type": "markdown",
   "metadata": {},
   "source": [
    "Plotly Stacked Bar plot."
   ]
  },
  {
   "cell_type": "code",
   "execution_count": null,
   "metadata": {},
   "outputs": [],
   "source": [
    "trace_protected = go.Bar(name='protected', y=south_america.sort_values(\n",
    "    'protected_area_total')['name'],\n",
    "    x=south_america.sort_values(\n",
    "    'protected_area_total')['protected_area_total'],\n",
    "    orientation='h')\n",
    "\n",
    "trace_non_protected = go.Bar(name='not protected', y=south_america.sort_values(\n",
    "    'protected_area_total')['name'],\n",
    "    x=south_america.sort_values(\n",
    "    'protected_area_total')['non_protected_area_total'],\n",
    "    orientation='h')\n",
    "\n",
    "data = [trace_protected, trace_non_protected]\n",
    "\n",
    "layout = go.Layout(height=512, width=1024,\n",
    "                   font=dict(size=20),\n",
    "                   barmode='stack',\n",
    "                   xaxis=dict(title=dict(text='Area Use [km^2]')))\n",
    "\n",
    "fig = go.Figure(data=data, layout=layout)"
   ]
  },
  {
   "cell_type": "code",
   "execution_count": null,
   "metadata": {},
   "outputs": [],
   "source": [
    "embed_plot(fig, 'p_2.html')"
   ]
  },
  {
   "cell_type": "code",
   "execution_count": null,
   "metadata": {},
   "outputs": [],
   "source": [
    "fig.show()"
   ]
  },
  {
   "cell_type": "code",
   "execution_count": null,
   "metadata": {},
   "outputs": [],
   "source": [
    "south_america[south_america['name'] == 'Brazil']['protected_area_total'].values[0] \\\n",
    "    / south_america['protected_area_total'].sum()"
   ]
  },
  {
   "cell_type": "markdown",
   "metadata": {},
   "source": [
    "## 5. Conclusion\n",
    "\n",
    " 1. The protected area shown here is the one on the land only.\n",
    "    Ecuador, Chile, and Falkland Islands have large protected\n",
    "    areas in the ocean, but they are not included here.\n",
    "\n",
    " 2. Among 13 countries in South America, only three (Venezuela,\n",
    "    Brazil Chile) exceeds the average fraction of the protected area\n",
    "    (0.31)\n",
    "\n",
    " 3. In particular, Venezuela boasts the largest fraction of the\n",
    "    protected area in spite of the relatively small area of the country.\n",
    "    The data stems from the year 2019.\n",
    "\n",
    " 4. More than half (55%) of the protected area\n",
    "    (in area as opposed to in number)\n",
    "    in South America is located in Brazil.\n",
    "\n",
    " 5. The fraction of the protected area in Argentina,\n",
    "   the second largest country in South America, is 13% and less than\n",
    "   half the South American average. Further effort to promote\n",
    "   the protection of the wildlife habitat in the country should be\n",
    "   warranted."
   ]
  },
  {
   "cell_type": "markdown",
   "metadata": {},
   "source": [
    "## Appendix\n",
    " ### intersects and intersection\n",
    "\n",
    " Note that 'intersects' (that returns boolean) need the arguments\n",
    " gpd.GeoDataFrame, while 'intersections' (that returns Polygon)\n",
    " need the arguments to be gpd.GeoSeries.\n",
    "\n",
    " - for gpd.GeoDataFrame 'south_america.loc[i:i, 'geometry']'\n",
    " - for gpd.Series       'south_america.loc[i, 'geometry']'"
   ]
  },
  {
   "cell_type": "code",
   "execution_count": null,
   "metadata": {},
   "outputs": [],
   "source": [
    "# x = [south_america.loc[i:i, 'geometry'].intersects(\n",
    "#     protected_areas_on_land.loc[j:j, :])\n",
    "#     for i in south_america.index\n",
    "#     for j in protected_areas_on_land.index]"
   ]
  },
  {
   "cell_type": "markdown",
   "metadata": {},
   "source": [
    "### Tech Stack\n",
    "\n",
    " 1. __Data format__<br>\n",
    "`geopandas`, since it is an industrial standard."
   ]
  },
  {
   "cell_type": "markdown",
   "metadata": {},
   "source": [
    "2. __Quick review of `geopandas` data structure__<br>\n",
    " * Except `geometry` column that usually comes at the end,\n",
    " GeoDataFrame is totally same with\n",
    " `pandas` DataFrame. In short, GeoDataFrame is pandas DataFrame\n",
    " plus 'geometry' column at the end.\n",
    "\n",
    " * `geometry` data has its own attributes (=parameters) and\n",
    " methods (=functions) that are useful for the GIS (Geographic\n",
    " Information System). One of them is __Coordinate Reference\n",
    " System (CRS)__ discussed above."
   ]
  },
  {
   "cell_type": "markdown",
   "metadata": {},
   "source": [
    "3. __Visualization__<br>\n",
    " I have a bit of experience with `MapBox` of\n",
    " `plotly` in creating maps of the urban highways.\n",
    " I spent long time with `plotly`\n",
    " to have a map (underlying land image) and plots (points and lines),\n",
    " but finally gave it up. I learned `folium` through this kaggle\n",
    " course, and found it much easier than `plotly` when we deal with\n",
    " geospatial data. There are lots of attractive plugins for `folium`\n",
    " as well."
   ]
  },
  {
   "cell_type": "markdown",
   "metadata": {},
   "source": [
    "4. __IDE / Editor__<br>\n",
    " Choices are\n",
    " - VS Code on my laptop\n",
    " - Jupyter Notebook on my laptop\n",
    " - Jupyter Notebook on Kaggle platform\n",
    "\n",
    " In terms of speed of code development, VS Code is the sole choice.\n",
    " However, when it comes to the infrastructure, like\n",
    " getting a hint in coding, checking the solution, and getting\n",
    " the certificate, there is no other choice than using Jupyter\n",
    " Notebook on kaggle platform.\n",
    " Jupyter Notebook also makes it easier to\n",
    " see `folium` visualizations than VS Code."
   ]
  },
  {
   "cell_type": "markdown",
   "metadata": {},
   "source": [
    "5. __Converting Jupyter Notebook to Python script__<br>\n",
    " I downloaded notebook files to local laptop\n",
    " after I finished all lessons and got the certificate.\n",
    " I wanted to edit them further on my comfortable VS Code to post\n",
    " them to GitHub. The first challenge was that it was not straightforward\n",
    " to have `folium` visualization while using VS Code. A short function\n",
    " `show_on_browser` was written so that I can see the visualization\n",
    " on the local browser seamlessly. The jupyter notebooks were converted\n",
    " to plain Python script by `nbconvert`.\n",
    "\n",
    "```\n",
    "# Install nbconvert\n",
    "pip install nbconvert\n",
    "\n",
    "# Convert Jupyter Notebook 'ex_1.ipynb' to 'ex_1.py'.\n",
    "# 'script means the command convert the input to python script.\n",
    "Jupyter nbconvert - -to script ex_1.ipynb\n",
    "```"
   ]
  },
  {
   "cell_type": "markdown",
   "metadata": {},
   "source": [
    "6. __Converting Python script back to Jupyter Notebook__<br>\n",
    " After editing, and testing the code part on VS Code, I would like to\n",
    " convert it back to Jupyter Notebook to post them on GitHub.\n",
    " I also would like to touch up the markdown part of the notebook.\n",
    " There are choices:\n",
    "\n",
    " * Finish touching up markdown on VS Code, then convert it to Notebook\n",
    " * Convert the script to Notebook, and ginish touching up markdown on Jupyter.\n",
    "\n",
    " First option was difficult because it is not easy to check the formatted markdown\n",
    "    while you are working plain Python script on VS Code.\n",
    "\n",
    " Second option also difficult. I cannot edit a long code fast enough on GUI-based\n",
    "     platform.\n",
    "\n",
    " The final solution I took (not perfectly satisfied) is to use either VS Code\n",
    " or Emacs (my preference) to edit a plain Python code, and time to time,\n",
    " check the formatted markdown with equivalent Notebook code. For the conversion\n",
    " of *.py to *.ipynb, the choices are\n",
    "\n",
    " * jupytext\n",
    " * p2j\n",
    " * py2nb\n",
    "\n",
    " each requires preparing  markdown-part  in *.py different way.\n",
    " For instance, in `p2j` all lines starting with `#` are taken as\n",
    " markdown, while `py2nb` with `# |`. Drawbacks in editing markdown\n",
    " as comment text in a plain python script are\n",
    "\n",
    " * no syntax highlighting\n",
    " * no automatic justification of text\n",
    " * no spell check\n",
    "\n",
    " `py2nb` was chosen because with `py2nb` it is more straightforward\n",
    " than other two to use markdown syntax in the comment text.\n",
    "\n",
    "```\n",
    "# Install py2nb\n",
    "pip install py2nb\n",
    "\n",
    "# Convert python script 'ex_1.py' back to Jupyter Notebook 'ex_1.ipynb'.\n",
    "py2nb ex_1.py\n",
    "```"
   ]
  },
  {
   "cell_type": "markdown",
   "metadata": {},
   "source": [
    "***\n",
    " END"
   ]
  }
 ],
 "metadata": {},
 "nbformat": 4,
 "nbformat_minor": 4
}
